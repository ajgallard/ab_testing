{
 "cells": [
  {
   "cell_type": "markdown",
   "id": "5037809f",
   "metadata": {},
   "source": [
    "# A|B Testing"
   ]
  },
  {
   "cell_type": "markdown",
   "id": "df2e9027",
   "metadata": {},
   "source": [
    "Using an ab-test dataset from [Kaggle](https://www.kaggle.com/mursideyarkin/mobile-games-ab-testing-cookie-cats) with special thanks to **Mürşide Yarkın** how posted a great kaggle notebook on this dataset to get things started. *Yarkins notebook can be found under the 'Code' tab through the Kaggle link.*"
   ]
  },
  {
   "cell_type": "markdown",
   "id": "e406839d",
   "metadata": {},
   "source": [
    "<img src=https://i.ytimg.com/vi/LkvnfULq8yQ/maxresdefault.jpg style=\"max-width:350px\">"
   ]
  },
  {
   "cell_type": "markdown",
   "id": "09cae60f",
   "metadata": {},
   "source": [
    "## Cookie Cats Dataset\n",
    "The following dataset contains information regarding an ab test conducted for a mobile game called **Cookie Cats**. There are two variants being A|B Tested called 'gate30' and 'gate40'. These gates refer to the level at which point a player is prompted to either wait a specified time or make a purchase before returning to the game. Retention is our key metric for this assignment to see whether or not a change from gate30 to gate40 will increase retention for the game. The column 'retention_1' refers to retention after a single day and 'retention_7' refers to rentention after a week. The column for either of the retention columns will be marked False if the player does not come back after the specified time and True if they return to the game within the same timeframe. For the context of this experiment 'userids' and 'sum_gamerounds' are not relevant."
   ]
  },
  {
   "cell_type": "code",
   "execution_count": 1,
   "id": "83c862fc",
   "metadata": {},
   "outputs": [],
   "source": [
    "import pandas as pd\n",
    "import matplotlib.pyplot as plt\n",
    "import seaborn as sns\n",
    "from scipy.stats import chisquare\n",
    "%matplotlib inline"
   ]
  },
  {
   "cell_type": "markdown",
   "id": "d68dbc8a",
   "metadata": {},
   "source": [
    "### Loading the Data"
   ]
  },
  {
   "cell_type": "code",
   "execution_count": 2,
   "id": "bfcb2bf7",
   "metadata": {},
   "outputs": [
    {
     "data": {
      "text/html": [
       "<div>\n",
       "<style scoped>\n",
       "    .dataframe tbody tr th:only-of-type {\n",
       "        vertical-align: middle;\n",
       "    }\n",
       "\n",
       "    .dataframe tbody tr th {\n",
       "        vertical-align: top;\n",
       "    }\n",
       "\n",
       "    .dataframe thead th {\n",
       "        text-align: right;\n",
       "    }\n",
       "</style>\n",
       "<table border=\"1\" class=\"dataframe\">\n",
       "  <thead>\n",
       "    <tr style=\"text-align: right;\">\n",
       "      <th></th>\n",
       "      <th>version</th>\n",
       "      <th>retention_1</th>\n",
       "      <th>retention_7</th>\n",
       "    </tr>\n",
       "  </thead>\n",
       "  <tbody>\n",
       "    <tr>\n",
       "      <th>0</th>\n",
       "      <td>gate_30</td>\n",
       "      <td>False</td>\n",
       "      <td>False</td>\n",
       "    </tr>\n",
       "    <tr>\n",
       "      <th>1</th>\n",
       "      <td>gate_30</td>\n",
       "      <td>True</td>\n",
       "      <td>False</td>\n",
       "    </tr>\n",
       "    <tr>\n",
       "      <th>2</th>\n",
       "      <td>gate_40</td>\n",
       "      <td>True</td>\n",
       "      <td>False</td>\n",
       "    </tr>\n",
       "    <tr>\n",
       "      <th>3</th>\n",
       "      <td>gate_40</td>\n",
       "      <td>False</td>\n",
       "      <td>False</td>\n",
       "    </tr>\n",
       "    <tr>\n",
       "      <th>4</th>\n",
       "      <td>gate_40</td>\n",
       "      <td>True</td>\n",
       "      <td>True</td>\n",
       "    </tr>\n",
       "  </tbody>\n",
       "</table>\n",
       "</div>"
      ],
      "text/plain": [
       "   version  retention_1  retention_7\n",
       "0  gate_30        False        False\n",
       "1  gate_30         True        False\n",
       "2  gate_40         True        False\n",
       "3  gate_40        False        False\n",
       "4  gate_40         True         True"
      ]
     },
     "execution_count": 2,
     "metadata": {},
     "output_type": "execute_result"
    }
   ],
   "source": [
    "df = pd.read_csv('data/cookie_cats.csv')\n",
    "df = df.drop(['userid','sum_gamerounds'], axis=1)\n",
    "df.head()"
   ]
  },
  {
   "cell_type": "markdown",
   "id": "550a1c87",
   "metadata": {},
   "source": [
    "### Data Exploration\n",
    "Our exploration phase is simply to find the retention rates for our variants 'gate30' and 'gate40' under 'retention_1' and 'retention_7'"
   ]
  },
  {
   "cell_type": "code",
   "execution_count": 3,
   "id": "c833df34",
   "metadata": {},
   "outputs": [
    {
     "data": {
      "text/html": [
       "<div>\n",
       "<style scoped>\n",
       "    .dataframe tbody tr th:only-of-type {\n",
       "        vertical-align: middle;\n",
       "    }\n",
       "\n",
       "    .dataframe tbody tr th {\n",
       "        vertical-align: top;\n",
       "    }\n",
       "\n",
       "    .dataframe thead th {\n",
       "        text-align: right;\n",
       "    }\n",
       "</style>\n",
       "<table border=\"1\" class=\"dataframe\">\n",
       "  <thead>\n",
       "    <tr style=\"text-align: right;\">\n",
       "      <th></th>\n",
       "      <th>retention_1</th>\n",
       "      <th>retention_7</th>\n",
       "    </tr>\n",
       "    <tr>\n",
       "      <th>version</th>\n",
       "      <th></th>\n",
       "      <th></th>\n",
       "    </tr>\n",
       "  </thead>\n",
       "  <tbody>\n",
       "    <tr>\n",
       "      <th>gate_30</th>\n",
       "      <td>44700</td>\n",
       "      <td>44700</td>\n",
       "    </tr>\n",
       "    <tr>\n",
       "      <th>gate_40</th>\n",
       "      <td>45489</td>\n",
       "      <td>45489</td>\n",
       "    </tr>\n",
       "  </tbody>\n",
       "</table>\n",
       "</div>"
      ],
      "text/plain": [
       "         retention_1  retention_7\n",
       "version                          \n",
       "gate_30        44700        44700\n",
       "gate_40        45489        45489"
      ]
     },
     "execution_count": 3,
     "metadata": {},
     "output_type": "execute_result"
    }
   ],
   "source": [
    "#group totals\n",
    "df.groupby('version').count()"
   ]
  },
  {
   "cell_type": "code",
   "execution_count": 4,
   "id": "40283073",
   "metadata": {},
   "outputs": [],
   "source": [
    "df_rates = df.groupby('version').sum()/df.groupby('version').count()\n",
    "df_rates.rename(columns={'retention_1':'rate_1', \n",
    "                         'retention_7':'rate_7'}, inplace=True)"
   ]
  },
  {
   "cell_type": "code",
   "execution_count": 5,
   "id": "8963a9f6",
   "metadata": {},
   "outputs": [
    {
     "data": {
      "text/html": [
       "<div>\n",
       "<style scoped>\n",
       "    .dataframe tbody tr th:only-of-type {\n",
       "        vertical-align: middle;\n",
       "    }\n",
       "\n",
       "    .dataframe tbody tr th {\n",
       "        vertical-align: top;\n",
       "    }\n",
       "\n",
       "    .dataframe thead th {\n",
       "        text-align: right;\n",
       "    }\n",
       "</style>\n",
       "<table border=\"1\" class=\"dataframe\">\n",
       "  <thead>\n",
       "    <tr style=\"text-align: right;\">\n",
       "      <th></th>\n",
       "      <th>rate_1</th>\n",
       "      <th>rate_7</th>\n",
       "    </tr>\n",
       "    <tr>\n",
       "      <th>version</th>\n",
       "      <th></th>\n",
       "      <th></th>\n",
       "    </tr>\n",
       "  </thead>\n",
       "  <tbody>\n",
       "    <tr>\n",
       "      <th>gate_30</th>\n",
       "      <td>0.448188</td>\n",
       "      <td>0.190201</td>\n",
       "    </tr>\n",
       "    <tr>\n",
       "      <th>gate_40</th>\n",
       "      <td>0.442283</td>\n",
       "      <td>0.182000</td>\n",
       "    </tr>\n",
       "  </tbody>\n",
       "</table>\n",
       "</div>"
      ],
      "text/plain": [
       "           rate_1    rate_7\n",
       "version                    \n",
       "gate_30  0.448188  0.190201\n",
       "gate_40  0.442283  0.182000"
      ]
     },
     "execution_count": 5,
     "metadata": {},
     "output_type": "execute_result"
    }
   ],
   "source": [
    "#retention rates\n",
    "df_rates"
   ]
  },
  {
   "cell_type": "markdown",
   "id": "012ddbb1",
   "metadata": {},
   "source": [
    "> We can see that there seems to be a slight decline when using gate_40 compared to gate_30. We will investigate this difference further..."
   ]
  },
  {
   "cell_type": "markdown",
   "id": "f3520b1f",
   "metadata": {},
   "source": [
    "#### Crosstabs for A|B Testing\n",
    "We are creating two crosstabs from our dataframe to pass into our chi-square test just ahead"
   ]
  },
  {
   "cell_type": "code",
   "execution_count": 6,
   "id": "2834af86",
   "metadata": {},
   "outputs": [
    {
     "data": {
      "text/html": [
       "<div>\n",
       "<style scoped>\n",
       "    .dataframe tbody tr th:only-of-type {\n",
       "        vertical-align: middle;\n",
       "    }\n",
       "\n",
       "    .dataframe tbody tr th {\n",
       "        vertical-align: top;\n",
       "    }\n",
       "\n",
       "    .dataframe thead th {\n",
       "        text-align: right;\n",
       "    }\n",
       "</style>\n",
       "<table border=\"1\" class=\"dataframe\">\n",
       "  <thead>\n",
       "    <tr style=\"text-align: right;\">\n",
       "      <th>retention_1</th>\n",
       "      <th>False</th>\n",
       "      <th>True</th>\n",
       "    </tr>\n",
       "    <tr>\n",
       "      <th>version</th>\n",
       "      <th></th>\n",
       "      <th></th>\n",
       "    </tr>\n",
       "  </thead>\n",
       "  <tbody>\n",
       "    <tr>\n",
       "      <th>gate_30</th>\n",
       "      <td>24666</td>\n",
       "      <td>20034</td>\n",
       "    </tr>\n",
       "    <tr>\n",
       "      <th>gate_40</th>\n",
       "      <td>25370</td>\n",
       "      <td>20119</td>\n",
       "    </tr>\n",
       "  </tbody>\n",
       "</table>\n",
       "</div>"
      ],
      "text/plain": [
       "retention_1  False  True \n",
       "version                  \n",
       "gate_30      24666  20034\n",
       "gate_40      25370  20119"
      ]
     },
     "execution_count": 6,
     "metadata": {},
     "output_type": "execute_result"
    }
   ],
   "source": [
    "cross_1 = pd.crosstab(df.version, df.retention_1)\n",
    "cross_1"
   ]
  },
  {
   "cell_type": "code",
   "execution_count": 7,
   "id": "6fc299a0",
   "metadata": {},
   "outputs": [
    {
     "data": {
      "text/html": [
       "<div>\n",
       "<style scoped>\n",
       "    .dataframe tbody tr th:only-of-type {\n",
       "        vertical-align: middle;\n",
       "    }\n",
       "\n",
       "    .dataframe tbody tr th {\n",
       "        vertical-align: top;\n",
       "    }\n",
       "\n",
       "    .dataframe thead th {\n",
       "        text-align: right;\n",
       "    }\n",
       "</style>\n",
       "<table border=\"1\" class=\"dataframe\">\n",
       "  <thead>\n",
       "    <tr style=\"text-align: right;\">\n",
       "      <th>retention_7</th>\n",
       "      <th>False</th>\n",
       "      <th>True</th>\n",
       "    </tr>\n",
       "    <tr>\n",
       "      <th>version</th>\n",
       "      <th></th>\n",
       "      <th></th>\n",
       "    </tr>\n",
       "  </thead>\n",
       "  <tbody>\n",
       "    <tr>\n",
       "      <th>gate_30</th>\n",
       "      <td>36198</td>\n",
       "      <td>8502</td>\n",
       "    </tr>\n",
       "    <tr>\n",
       "      <th>gate_40</th>\n",
       "      <td>37210</td>\n",
       "      <td>8279</td>\n",
       "    </tr>\n",
       "  </tbody>\n",
       "</table>\n",
       "</div>"
      ],
      "text/plain": [
       "retention_7  False  True \n",
       "version                  \n",
       "gate_30      36198   8502\n",
       "gate_40      37210   8279"
      ]
     },
     "execution_count": 7,
     "metadata": {},
     "output_type": "execute_result"
    }
   ],
   "source": [
    "cross_7 = pd.crosstab(df.version, df.retention_7)\n",
    "cross_7"
   ]
  },
  {
   "cell_type": "markdown",
   "id": "5888f4a6",
   "metadata": {},
   "source": [
    "### Chi-Square Test\n",
    "We will be using a chi-square test to check for any significant difference between the distributions of 'gate30' and 'gate40'. This is not a test to see whether one should be implemented over the other, this test is simply to see if a significant difference exist between each group."
   ]
  },
  {
   "cell_type": "code",
   "execution_count": 8,
   "id": "45506799",
   "metadata": {},
   "outputs": [],
   "source": [
    "def chi_test(observed, expected):\n",
    "    chi = chisquare(observed, expected)\n",
    "    if chi[1] < 0.01:\n",
    "        print(f'Significant at 1%: p-value = {chi[1]}')\n",
    "    elif chi[1] < 0.05:\n",
    "        print(f'Significant at 5%: p-value = {chi[1]}')\n",
    "    else:\n",
    "        print(print(f'Not Significant at 5%: p-value = {chi[1]}'))"
   ]
  },
  {
   "cell_type": "code",
   "execution_count": 9,
   "id": "8e06ea42",
   "metadata": {},
   "outputs": [
    {
     "name": "stdout",
     "output_type": "stream",
     "text": [
      "Expected for Retention_1:\n",
      " [24666, 20034] \n",
      "\n",
      "Observed for Retention_1:\n",
      " [25370, 20119]\n"
     ]
    }
   ],
   "source": [
    "#Crosstab 1\n",
    "expected_1 = [cross_1[0][0], cross_1[1][0]]\n",
    "observed_1 = [cross_1[0][1], cross_1[1][1]]\n",
    "print(f'Expected for Retention_1:\\n {expected_1}', '\\n')\n",
    "print(f'Observed for Retention_1:\\n {observed_1}')"
   ]
  },
  {
   "cell_type": "code",
   "execution_count": 10,
   "id": "caacd61e",
   "metadata": {},
   "outputs": [
    {
     "name": "stdout",
     "output_type": "stream",
     "text": [
      "Significant at 1%: p-value = 6.109068351193552e-06\n"
     ]
    }
   ],
   "source": [
    "#Chi Test for Retention_1\n",
    "chi_test(observed_1, expected_1)"
   ]
  },
  {
   "cell_type": "code",
   "execution_count": 11,
   "id": "f0f4af57",
   "metadata": {},
   "outputs": [
    {
     "name": "stdout",
     "output_type": "stream",
     "text": [
      "Expected for Retention_7:\n",
      " [36198, 8502] \n",
      "\n",
      "Observed for Retention_7:\n",
      " [37210, 8279]\n"
     ]
    }
   ],
   "source": [
    "#Crosstab 1\n",
    "expected_7 = [cross_7[0][0], cross_7[1][0]]\n",
    "observed_7 = [cross_7[0][1], cross_7[1][1]]\n",
    "print(f'Expected for Retention_7:\\n {expected_7}', '\\n')\n",
    "print(f'Observed for Retention_7:\\n {observed_7}')"
   ]
  },
  {
   "cell_type": "code",
   "execution_count": 12,
   "id": "b309d5d9",
   "metadata": {},
   "outputs": [
    {
     "name": "stdout",
     "output_type": "stream",
     "text": [
      "Significant at 1%: p-value = 5.123532628219246e-09\n"
     ]
    }
   ],
   "source": [
    "#Chi Test for Retention_7\n",
    "chi_test(observed_7, expected_7)"
   ]
  },
  {
   "cell_type": "markdown",
   "id": "a75cbfc2",
   "metadata": {},
   "source": [
    "> We have observed a significant difference at the 1% level so we have strong reason to believe that there is a difference between the distributions of 'gate30' and 'gate40' worth investigating"
   ]
  },
  {
   "cell_type": "markdown",
   "id": "73533fc0",
   "metadata": {},
   "source": [
    "### Bootstrapping\n",
    "We will now be using a bootstrapping technique to visualize the distributions of the mean retention rates for both 'gate30' and 'gate40'. By utilizing the central limit theorem we can create two sets of normal distributions by sampling our own data. Since the chi-square test gave us a strong implication that the distributions were different we should be able to distinguish between each gate fairly easily. We will use a sample of n=500 for our bootstrap method. Based on the visualizations we generate we should be able to determine our course of action "
   ]
  },
  {
   "cell_type": "code",
   "execution_count": 13,
   "id": "cf4fdc4e",
   "metadata": {},
   "outputs": [],
   "source": [
    "# Our bootstrap function\n",
    "def bootstrap(df, version:str, variant:str, sample_size:int = 500):\n",
    "    boot_means = []\n",
    "    for i in range(sample_size):\n",
    "        boot_mean = df.sample(frac=1, replace=True).groupby(version)[variant].mean()\n",
    "        boot_means.append(boot_mean)\n",
    "    boot_df = pd.DataFrame(boot_means)\n",
    "    return boot_df"
   ]
  },
  {
   "cell_type": "code",
   "execution_count": 14,
   "id": "6707c8a3",
   "metadata": {},
   "outputs": [],
   "source": [
    "boot_1 = bootstrap(df, version = 'version', variant ='retention_1')"
   ]
  },
  {
   "cell_type": "code",
   "execution_count": 15,
   "id": "338b9c09",
   "metadata": {},
   "outputs": [
    {
     "data": {
      "text/plain": [
       "<seaborn.axisgrid.FacetGrid at 0x1b08d0b9af0>"
      ]
     },
     "execution_count": 15,
     "metadata": {},
     "output_type": "execute_result"
    },
    {
     "data": {
      "image/png": "[encoded data removed]",
      "text/plain": [
       "<Figure size 436.25x360 with 1 Axes>"
      ]
     },
     "metadata": {
      "needs_background": "light"
     },
     "output_type": "display_data"
    }
   ],
   "source": [
    "sns.displot(data=boot_1, kind='kde').set(title='Rates for Retention_1')"
   ]
  },
  {
   "cell_type": "code",
   "execution_count": 16,
   "id": "378b416b",
   "metadata": {},
   "outputs": [],
   "source": [
    "boot_7 = bootstrap(df, version = 'version', variant ='retention_7')"
   ]
  },
  {
   "cell_type": "code",
   "execution_count": 17,
   "id": "9422149e",
   "metadata": {
    "scrolled": true
   },
   "outputs": [
    {
     "data": {
      "text/plain": [
       "<seaborn.axisgrid.FacetGrid at 0x1b08d167bb0>"
      ]
     },
     "execution_count": 17,
     "metadata": {},
     "output_type": "execute_result"
    },
    {
     "data": {
      "image/png": "[encoded data removed]",
      "text/plain": [
       "<Figure size 436.25x360 with 1 Axes>"
      ]
     },
     "metadata": {
      "needs_background": "light"
     },
     "output_type": "display_data"
    }
   ],
   "source": [
    "sns.displot(data=boot_7, kind='kde').set(title='Rates for Retention_7')"
   ]
  },
  {
   "cell_type": "markdown",
   "id": "1f12770d",
   "metadata": {},
   "source": [
    "# Conclusion\n",
    "Based on our results we can clearly see that 'gate40' is ultimately detrimental to our retention. In other words, players are not opening the game as often under the 'gate40' variant as they are when playing under the 'gate30' variant. We should recommend to our team that **'gate40' should not be implemented**. Sticking to 'gate30' will provide better results based on our analysis."
   ]
  }
 ],
 "metadata": {
  "kernelspec": {
   "display_name": "Python 3",
   "language": "python",
   "name": "python3"
  },
  "language_info": {
   "codemirror_mode": {
    "name": "ipython",
    "version": 3
   },
   "file_extension": ".py",
   "mimetype": "text/x-python",
   "name": "python",
   "nbconvert_exporter": "python",
   "pygments_lexer": "ipython3",
   "version": "3.8.5"
  }
 },
 "nbformat": 4,
 "nbformat_minor": 5
}
